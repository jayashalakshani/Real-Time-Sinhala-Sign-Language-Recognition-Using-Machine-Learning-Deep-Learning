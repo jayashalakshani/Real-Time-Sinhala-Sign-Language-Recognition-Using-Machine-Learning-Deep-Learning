{
 "cells": [
  {
   "cell_type": "code",
   "execution_count": 1,
   "id": "b4b112d9-0c67-4a32-a841-a77022345191",
   "metadata": {},
   "outputs": [],
   "source": [
    "# pip install opencv-python"
   ]
  },
  {
   "cell_type": "code",
   "execution_count": 2,
   "id": "85bc7ff8-ca4d-44d1-9dc1-b29027ca9453",
   "metadata": {},
   "outputs": [],
   "source": [
    "# Import required libraries\n",
    "import os\n",
    "import cv2"
   ]
  },
  {
   "cell_type": "code",
   "execution_count": 3,
   "id": "0c4bf8fb-2b4b-4160-9142-23ed9959caa6",
   "metadata": {},
   "outputs": [],
   "source": [
    "# Directory to store collected data\n",
    "DATA_DIR = './data'\n",
    "if not os.path.exists(DATA_DIR):  # Create the main data directory if it doesn't exist\n",
    "    os.makedirs(DATA_DIR)"
   ]
  },
  {
   "cell_type": "code",
   "execution_count": 4,
   "id": "404fa667-fbd5-4001-8a83-7bd5beece2f4",
   "metadata": {},
   "outputs": [],
   "source": [
    "# Number of classes to collect data for and the size of the dataset per class\n",
    "number_of_classes = 10\n",
    "dataset_size = 100"
   ]
  },
  {
   "cell_type": "code",
   "execution_count": 5,
   "id": "e7908d90-ea21-4771-820a-e08645c23050",
   "metadata": {},
   "outputs": [
    {
     "name": "stdout",
     "output_type": "stream",
     "text": [
      "Collecting data for class 0\n",
      "Starting data collection...\n",
      "Collecting data for class 1\n",
      "Starting data collection...\n",
      "Collecting data for class 2\n",
      "Starting data collection...\n",
      "Collecting data for class 3\n",
      "Starting data collection...\n",
      "Collecting data for class 4\n",
      "Starting data collection...\n",
      "Collecting data for class 5\n",
      "Starting data collection...\n",
      "Collecting data for class 6\n",
      "Starting data collection...\n",
      "Collecting data for class 7\n",
      "Starting data collection...\n",
      "Collecting data for class 8\n",
      "Starting data collection...\n",
      "Collecting data for class 9\n",
      "Starting data collection...\n"
     ]
    }
   ],
   "source": [
    "# Access the default camera\n",
    "cap = cv2.VideoCapture(0)  # Use default camera (index 0)\n",
    "if not cap.isOpened():  # Check if the camera is accessible\n",
    "    print(\"Error accessing the camera. Please check your device.\")\n",
    "else:\n",
    "    for j in range(number_of_classes):\n",
    "        # Create directory for the class\n",
    "        class_dir = os.path.join(DATA_DIR, str(j))\n",
    "        if not os.path.exists(class_dir):\n",
    "            os.makedirs(class_dir)\n",
    "\n",
    "        print(f'Collecting data for class {j}')\n",
    "\n",
    "        # Wait for user to start data collection\n",
    "        while True:\n",
    "            ret, frame = cap.read()\n",
    "            if not ret:\n",
    "                print(\"Error reading from camera.\")\n",
    "                break\n",
    "\n",
    "            # Display instructions\n",
    "            cv2.putText(frame, 'Ready? Press \"Q\" to start!', (100, 50), \n",
    "                        cv2.FONT_HERSHEY_SIMPLEX, 1.3, (0, 255, 0), 3, cv2.LINE_AA)\n",
    "            cv2.imshow('frame', frame)\n",
    "\n",
    "            # Check for keypress\n",
    "            key = cv2.waitKey(25) & 0xFF  # Get the last 8 bits of the key\n",
    "            if key == ord('q'):  # If 'q' is pressed\n",
    "                print(\"Starting data collection...\")\n",
    "                break\n",
    "            elif key == 27:  # If 'Esc' is pressed, exit\n",
    "                print(\"Exiting...\")\n",
    "                cap.release()\n",
    "                cv2.destroyAllWindows()\n",
    "                exit()\n",
    "\n",
    "        # Collect dataset for the current class\n",
    "        counter = 3\n",
    "        while counter < dataset_size:\n",
    "            ret, frame = cap.read()\n",
    "            if not ret:\n",
    "                print(\"Error reading from camera.\")\n",
    "                break\n",
    "\n",
    "            # Show live feed\n",
    "            cv2.imshow('frame', frame)\n",
    "\n",
    "            # Save captured images\n",
    "            file_path = os.path.join(class_dir, f'{counter}.jpg')\n",
    "            cv2.imwrite(file_path, frame)\n",
    "            counter += 1\n",
    "\n",
    "            # Wait for a short time\n",
    "            if cv2.waitKey(25) & 0xFF == 27:  # Allow 'Esc' to stop collection\n",
    "                print(\"Collection stopped early by user.\")\n",
    "                break\n",
    "\n",
    "    # Release the camera and close all windows\n",
    "    cap.release()\n",
    "    cv2.destroyAllWindows()"
   ]
  }
 ],
 "metadata": {
  "kernelspec": {
   "display_name": "Python 3 (ipykernel)",
   "language": "python",
   "name": "python3"
  },
  "language_info": {
   "codemirror_mode": {
    "name": "ipython",
    "version": 3
   },
   "file_extension": ".py",
   "mimetype": "text/x-python",
   "name": "python",
   "nbconvert_exporter": "python",
   "pygments_lexer": "ipython3",
   "version": "3.11.7"
  }
 },
 "nbformat": 4,
 "nbformat_minor": 5
}
