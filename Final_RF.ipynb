{
 "cells": [
  {
   "cell_type": "code",
   "execution_count": 1,
   "id": "02e12d68-a5bf-4538-add4-fffcddd25345",
   "metadata": {},
   "outputs": [],
   "source": [
    "import cv2\n",
    "import numpy as np\n",
    "import mediapipe as mp\n",
    "import joblib\n",
    "from sklearn.preprocessing import LabelEncoder\n",
    "from PIL import ImageFont, ImageDraw, Image\n",
    "import pickle\n",
    "from joblib import dump, load"
   ]
  },
  {
   "cell_type": "code",
   "execution_count": 2,
   "id": "370dd71c-ca17-401f-b160-bb064b5cab7a",
   "metadata": {},
   "outputs": [],
   "source": [
    "# Load the trained model\n",
    "with open('best_model_rf.pkl', 'rb') as file:\n",
    "         model = pickle.load(file)"
   ]
  },
  {
   "cell_type": "code",
   "execution_count": 3,
   "id": "ea12bd08-f581-4592-ba46-6be2cd0f6cf3",
   "metadata": {},
   "outputs": [
    {
     "data": {
      "text/html": [
       "<style>#sk-container-id-1 {color: black;background-color: white;}#sk-container-id-1 pre{padding: 0;}#sk-container-id-1 div.sk-toggleable {background-color: white;}#sk-container-id-1 label.sk-toggleable__label {cursor: pointer;display: block;width: 100%;margin-bottom: 0;padding: 0.3em;box-sizing: border-box;text-align: center;}#sk-container-id-1 label.sk-toggleable__label-arrow:before {content: \"▸\";float: left;margin-right: 0.25em;color: #696969;}#sk-container-id-1 label.sk-toggleable__label-arrow:hover:before {color: black;}#sk-container-id-1 div.sk-estimator:hover label.sk-toggleable__label-arrow:before {color: black;}#sk-container-id-1 div.sk-toggleable__content {max-height: 0;max-width: 0;overflow: hidden;text-align: left;background-color: #f0f8ff;}#sk-container-id-1 div.sk-toggleable__content pre {margin: 0.2em;color: black;border-radius: 0.25em;background-color: #f0f8ff;}#sk-container-id-1 input.sk-toggleable__control:checked~div.sk-toggleable__content {max-height: 200px;max-width: 100%;overflow: auto;}#sk-container-id-1 input.sk-toggleable__control:checked~label.sk-toggleable__label-arrow:before {content: \"▾\";}#sk-container-id-1 div.sk-estimator input.sk-toggleable__control:checked~label.sk-toggleable__label {background-color: #d4ebff;}#sk-container-id-1 div.sk-label input.sk-toggleable__control:checked~label.sk-toggleable__label {background-color: #d4ebff;}#sk-container-id-1 input.sk-hidden--visually {border: 0;clip: rect(1px 1px 1px 1px);clip: rect(1px, 1px, 1px, 1px);height: 1px;margin: -1px;overflow: hidden;padding: 0;position: absolute;width: 1px;}#sk-container-id-1 div.sk-estimator {font-family: monospace;background-color: #f0f8ff;border: 1px dotted black;border-radius: 0.25em;box-sizing: border-box;margin-bottom: 0.5em;}#sk-container-id-1 div.sk-estimator:hover {background-color: #d4ebff;}#sk-container-id-1 div.sk-parallel-item::after {content: \"\";width: 100%;border-bottom: 1px solid gray;flex-grow: 1;}#sk-container-id-1 div.sk-label:hover label.sk-toggleable__label {background-color: #d4ebff;}#sk-container-id-1 div.sk-serial::before {content: \"\";position: absolute;border-left: 1px solid gray;box-sizing: border-box;top: 0;bottom: 0;left: 50%;z-index: 0;}#sk-container-id-1 div.sk-serial {display: flex;flex-direction: column;align-items: center;background-color: white;padding-right: 0.2em;padding-left: 0.2em;position: relative;}#sk-container-id-1 div.sk-item {position: relative;z-index: 1;}#sk-container-id-1 div.sk-parallel {display: flex;align-items: stretch;justify-content: center;background-color: white;position: relative;}#sk-container-id-1 div.sk-item::before, #sk-container-id-1 div.sk-parallel-item::before {content: \"\";position: absolute;border-left: 1px solid gray;box-sizing: border-box;top: 0;bottom: 0;left: 50%;z-index: -1;}#sk-container-id-1 div.sk-parallel-item {display: flex;flex-direction: column;z-index: 1;position: relative;background-color: white;}#sk-container-id-1 div.sk-parallel-item:first-child::after {align-self: flex-end;width: 50%;}#sk-container-id-1 div.sk-parallel-item:last-child::after {align-self: flex-start;width: 50%;}#sk-container-id-1 div.sk-parallel-item:only-child::after {width: 0;}#sk-container-id-1 div.sk-dashed-wrapped {border: 1px dashed gray;margin: 0 0.4em 0.5em 0.4em;box-sizing: border-box;padding-bottom: 0.4em;background-color: white;}#sk-container-id-1 div.sk-label label {font-family: monospace;font-weight: bold;display: inline-block;line-height: 1.2em;}#sk-container-id-1 div.sk-label-container {text-align: center;}#sk-container-id-1 div.sk-container {/* jupyter's `normalize.less` sets `[hidden] { display: none; }` but bootstrap.min.css set `[hidden] { display: none !important; }` so we also need the `!important` here to be able to override the default hidden behavior on the sphinx rendered scikit-learn.org. See: https://github.com/scikit-learn/scikit-learn/issues/21755 */display: inline-block !important;position: relative;}#sk-container-id-1 div.sk-text-repr-fallback {display: none;}</style><div id=\"sk-container-id-1\" class=\"sk-top-container\"><div class=\"sk-text-repr-fallback\"><pre>LabelEncoder()</pre><b>In a Jupyter environment, please rerun this cell to show the HTML representation or trust the notebook. <br />On GitHub, the HTML representation is unable to render, please try loading this page with nbviewer.org.</b></div><div class=\"sk-container\" hidden><div class=\"sk-item\"><div class=\"sk-estimator sk-toggleable\"><input class=\"sk-toggleable__control sk-hidden--visually\" id=\"sk-estimator-id-1\" type=\"checkbox\" checked><label for=\"sk-estimator-id-1\" class=\"sk-toggleable__label sk-toggleable__label-arrow\">LabelEncoder</label><div class=\"sk-toggleable__content\"><pre>LabelEncoder()</pre></div></div></div></div></div>"
      ],
      "text/plain": [
       "LabelEncoder()"
      ]
     },
     "execution_count": 3,
     "metadata": {},
     "output_type": "execute_result"
    }
   ],
   "source": [
    "# Label encoder for decoding predictions\n",
    "with open('data.pickle', 'rb') as f:\n",
    "    dataset = pickle.load(f)\n",
    "\n",
    "label_encoder = LabelEncoder()\n",
    "label_encoder.fit(dataset['labels'])"
   ]
  },
  {
   "cell_type": "code",
   "execution_count": 4,
   "id": "c26e8d33-1b48-42a8-bcd8-289ae488b2d9",
   "metadata": {},
   "outputs": [],
   "source": [
    "# Dictionary mapping numerical labels to Sinhala letters\n",
    "labels_dict = {0: 'අ', 1: 'ආ', 2: 'ඇ', 3: 'ඉ', 4: 'ඊ', 5: 'උ', 6: 'ඌ', 7: 'එ', 8: 'ඒ', 9: 'ක්'}"
   ]
  },
  {
   "cell_type": "code",
   "execution_count": 5,
   "id": "6faa2448-dfad-4f55-8e2e-d7b5ebe3bd5e",
   "metadata": {},
   "outputs": [
    {
     "name": "stdout",
     "output_type": "stream",
     "text": [
      "Press 'Esc' to quit.\n"
     ]
    }
   ],
   "source": [
    "# Initialize MediaPipe hands module\n",
    "mp_hands = mp.solutions.hands\n",
    "mp_drawing = mp.solutions.drawing_utils\n",
    "hands = mp_hands.Hands(min_detection_confidence=0.5, min_tracking_confidence=0.5)\n",
    "\n",
    "# Access the camera\n",
    "cap = cv2.VideoCapture(0)\n",
    "\n",
    "# Load a Sinhala-compatible font\n",
    "font_path = \"NotoSansSinhala-VariableFont_wdth,wght.ttf\"  # Path to the font\n",
    "try:\n",
    "    font = ImageFont.truetype(font_path, 30)\n",
    "except IOError:\n",
    "    print(\"Font file not found. Defaulting to a basic font.\")\n",
    "    font = ImageFont.load_default()\n",
    "\n",
    "print(\"Press 'Esc' to quit.\")\n",
    "while cap.isOpened():\n",
    "    ret, frame = cap.read()\n",
    "    if not ret:\n",
    "        print(\"Error reading frame.\")\n",
    "        break\n",
    "\n",
    "    # Convert the frame to RGB (for MediaPipe and PIL)\n",
    "    img_rgb = cv2.cvtColor(frame, cv2.COLOR_BGR2RGB)\n",
    "    pil_img = Image.fromarray(img_rgb)\n",
    "\n",
    "    # Process the image using MediaPipe\n",
    "    results = hands.process(img_rgb)\n",
    "\n",
    "    if results.multi_hand_landmarks:\n",
    "        for hand_landmarks in results.multi_hand_landmarks:\n",
    "            # Draw hand landmarks and connections\n",
    "            mp_drawing.draw_landmarks(frame, hand_landmarks, mp_hands.HAND_CONNECTIONS)\n",
    "\n",
    "            # Extract and normalize landmarks\n",
    "            data_aux = []\n",
    "            x_ = [lm.x for lm in hand_landmarks.landmark]\n",
    "            y_ = [lm.y for lm in hand_landmarks.landmark]\n",
    "            for lm in hand_landmarks.landmark:\n",
    "                data_aux.append((lm.x - min(x_)) / (max(x_) - min(x_)))\n",
    "                data_aux.append((lm.y - min(y_)) / (max(y_) - min(y_)))\n",
    "\n",
    "            # Predict the letter\n",
    "            data_aux = np.array(data_aux).reshape(1, -1)  # Reshape for RandomForest\n",
    "            prediction = model.predict(data_aux)\n",
    "            predicted_label_index = prediction[0]  # RandomForest returns class index\n",
    "\n",
    "            # Safely get the predicted letter\n",
    "            predicted_letter = labels_dict.get(predicted_label_index)\n",
    "\n",
    "            # Overlay predicted letter using Pillow\n",
    "            draw = ImageDraw.Draw(pil_img)\n",
    "            draw.text((50, 50), f'Letter: {predicted_letter}', font=font, fill=(255, 0, 0))\n",
    "\n",
    "    # Convert PIL image back to OpenCV format\n",
    "    frame = np.array(pil_img)\n",
    "    frame = cv2.cvtColor(frame, cv2.COLOR_RGB2BGR)\n",
    "\n",
    "    # Display the frame\n",
    "    cv2.imshow('Live Prediction', frame)\n",
    "\n",
    "    # Exit on 'Esc' key\n",
    "    if cv2.waitKey(10) & 0xFF == 27:\n",
    "        break\n",
    "\n",
    "cap.release()\n",
    "cv2.destroyAllWindows()"
   ]
  },
  {
   "cell_type": "code",
   "execution_count": null,
   "id": "61b8f29b-ce67-450d-8b9d-02b70cb00ee3",
   "metadata": {},
   "outputs": [],
   "source": []
  }
 ],
 "metadata": {
  "kernelspec": {
   "display_name": "Python 3 (ipykernel)",
   "language": "python",
   "name": "python3"
  },
  "language_info": {
   "codemirror_mode": {
    "name": "ipython",
    "version": 3
   },
   "file_extension": ".py",
   "mimetype": "text/x-python",
   "name": "python",
   "nbconvert_exporter": "python",
   "pygments_lexer": "ipython3",
   "version": "3.11.7"
  }
 },
 "nbformat": 4,
 "nbformat_minor": 5
}
