{
 "cells": [
  {
   "cell_type": "code",
   "execution_count": 11,
   "id": "e8342abf-1e43-4753-9c0e-2e47f5538bcd",
   "metadata": {},
   "outputs": [
    {
     "name": "stderr",
     "output_type": "stream",
     "text": [
      "WARNING:absl:Compiled the loaded model, but the compiled metrics have yet to be built. `model.compile_metrics` will be empty until you train or evaluate the model.\n"
     ]
    },
    {
     "name": "stdin",
     "output_type": "stream",
     "text": [
      "Enter the path to the image file:  C:\\Users\\acer\\OneDrive\\Jupyter\\Sign Language\\data\\7\\3.jpg\n"
     ]
    },
    {
     "name": "stdout",
     "output_type": "stream",
     "text": [
      "\u001b[1m1/1\u001b[0m \u001b[32m━━━━━━━━━━━━━━━━━━━━\u001b[0m\u001b[37m\u001b[0m \u001b[1m0s\u001b[0m 275ms/step\n",
      "Predicted character: එ\n"
     ]
    },
    {
     "name": "stderr",
     "output_type": "stream",
     "text": [
      "C:\\Users\\acer\\AppData\\Local\\Temp\\ipykernel_6940\\805166637.py:31: DeprecationWarning: Conversion of an array with ndim > 0 to a scalar is deprecated, and will error in future. Ensure you extract a single element from your array before performing this operation. (Deprecated NumPy 1.25.)\n",
      "  predicted_label = labels_dict[int(predicted_class)]\n"
     ]
    }
   ],
   "source": [
    "import numpy as np\n",
    "from tensorflow.keras.models import load_model\n",
    "from tensorflow.keras.preprocessing import image\n",
    "\n",
    "# Load the trained CNN model (ensure the model is trained and saved properly)\n",
    "model = load_model('model.h5')\n",
    "\n",
    "# Label dictionary (from your previous code)\n",
    "labels_dict = {0: 'අ', 1: 'ආ', 2: 'ඇ', 3: 'ඉ',  4: 'ඊ',  5: 'උ',  6: 'ඌ',  7: 'එ',  8: 'ඒ',  9: 'ක්', }\n",
    "\n",
    "# Function to preprocess the input image\n",
    "def preprocess_image(img_path, target_size=(42, 42)):\n",
    "    # Load image and resize to target size (42x42)\n",
    "    img = image.load_img(img_path, target_size=target_size, color_mode='rgb')\n",
    "    img_array = image.img_to_array(img)  # Convert image to array\n",
    "    img_array = img_array / 255.0  # Normalize the image pixel values to [0, 1]\n",
    "    img_array = np.expand_dims(img_array, axis=0)  # Add batch dimension (1, 42, 42, 3)\n",
    "    return img_array\n",
    "\n",
    "# Function to predict the class of the image\n",
    "def predict_class(img_path):\n",
    "    img_array = preprocess_image(img_path)\n",
    "    \n",
    "    # Predict the class\n",
    "    prediction = model.predict(img_array)\n",
    "    \n",
    "    # Get the predicted class index\n",
    "    predicted_class = np.argmax(prediction, axis=-1)\n",
    "    \n",
    "    # Get the corresponding label for the predicted class\n",
    "    predicted_label = labels_dict[int(predicted_class)]\n",
    "    \n",
    "    return predicted_label\n",
    "\n",
    "# Get image path from user input\n",
    "img_path = input(\"Enter the path to the image file: \")\n",
    "\n",
    "# Validate if the file exists\n",
    "import os\n",
    "if os.path.exists(img_path):\n",
    "    predicted_character = predict_class(img_path)\n",
    "    print(f\"Predicted character: {predicted_character}\")\n",
    "else:\n",
    "    print(\"The file path is incorrect or the file does not exist.\")\n"
   ]
  },
  {
   "cell_type": "code",
   "execution_count": 3,
   "id": "e005ae8b-a5fc-4cfe-91dd-d63f9f2b7cab",
   "metadata": {},
   "outputs": [
    {
     "name": "stderr",
     "output_type": "stream",
     "text": [
      "WARNING:absl:Compiled the loaded model, but the compiled metrics have yet to be built. `model.compile_metrics` will be empty until you train or evaluate the model.\n"
     ]
    },
    {
     "name": "stdout",
     "output_type": "stream",
     "text": [
      "Press 's' to start prediction...\n",
      "Starting prediction...\n",
      "\u001b[1m1/1\u001b[0m \u001b[32m━━━━━━━━━━━━━━━━━━━━\u001b[0m\u001b[37m\u001b[0m \u001b[1m0s\u001b[0m 131ms/step\n",
      "Predicted character: උ\n"
     ]
    },
    {
     "name": "stderr",
     "output_type": "stream",
     "text": [
      "C:\\Users\\acer\\AppData\\Local\\Temp\\ipykernel_19724\\2627205088.py:32: DeprecationWarning: Conversion of an array with ndim > 0 to a scalar is deprecated, and will error in future. Ensure you extract a single element from your array before performing this operation. (Deprecated NumPy 1.25.)\n",
      "  predicted_label = labels_dict[int(predicted_class)]\n"
     ]
    },
    {
     "name": "stdout",
     "output_type": "stream",
     "text": [
      "Starting prediction...\n",
      "\u001b[1m1/1\u001b[0m \u001b[32m━━━━━━━━━━━━━━━━━━━━\u001b[0m\u001b[37m\u001b[0m \u001b[1m0s\u001b[0m 45ms/step\n",
      "Predicted character: උ\n",
      "Starting prediction...\n",
      "\u001b[1m1/1\u001b[0m \u001b[32m━━━━━━━━━━━━━━━━━━━━\u001b[0m\u001b[37m\u001b[0m \u001b[1m0s\u001b[0m 38ms/step\n",
      "Predicted character: උ\n",
      "Starting prediction...\n",
      "\u001b[1m1/1\u001b[0m \u001b[32m━━━━━━━━━━━━━━━━━━━━\u001b[0m\u001b[37m\u001b[0m \u001b[1m0s\u001b[0m 52ms/step\n",
      "Predicted character: එ\n",
      "Exiting...\n"
     ]
    }
   ],
   "source": [
    "import numpy as np\n",
    "import cv2\n",
    "from tensorflow.keras.models import load_model\n",
    "from tensorflow.keras.preprocessing import image\n",
    "\n",
    "# Load the trained CNN model (ensure the model is trained and saved properly)\n",
    "model = load_model('model.h5')\n",
    "\n",
    "# Label dictionary (from your previous code)\n",
    "labels_dict = {0: 'අ', 1: 'ආ', 2: 'ඇ', 3: 'ඉ',  4: 'ඊ',  5: 'උ',  6: 'ඌ',  7: 'එ',  8: 'ඒ',  9: 'ක්', }\n",
    "\n",
    "# Function to preprocess the input image\n",
    "def preprocess_image(img, target_size=(42, 42)):\n",
    "    # Resize to target size (42x42)\n",
    "    img_resized = cv2.resize(img, target_size)\n",
    "    img_array = image.img_to_array(img_resized)  # Convert image to array\n",
    "    img_array = img_array / 255.0  # Normalize the image pixel values to [0, 1]\n",
    "    img_array = np.expand_dims(img_array, axis=0)  # Add batch dimension (1, 42, 42, 3)\n",
    "    return img_array\n",
    "\n",
    "# Function to predict the class of the image\n",
    "def predict_class(img):\n",
    "    img_array = preprocess_image(img)\n",
    "    \n",
    "    # Predict the class\n",
    "    prediction = model.predict(img_array)\n",
    "    \n",
    "    # Get the predicted class index\n",
    "    predicted_class = np.argmax(prediction, axis=-1)\n",
    "    \n",
    "    # Get the corresponding label for the predicted class\n",
    "    predicted_label = labels_dict[int(predicted_class)]\n",
    "    \n",
    "    return predicted_label\n",
    "\n",
    "# Initialize the webcam\n",
    "cap = cv2.VideoCapture(0)\n",
    "\n",
    "print(\"Press 's' to start prediction...\")\n",
    "\n",
    "while True:\n",
    "    # Capture frame-by-frame\n",
    "    ret, frame = cap.read()\n",
    "    \n",
    "    if not ret:\n",
    "        print(\"Failed to grab frame.\")\n",
    "        break\n",
    "\n",
    "    # Display the frame\n",
    "    cv2.imshow(\"Live Webcam Feed\", frame)\n",
    "    \n",
    "    # Wait for user input (press 's' to start prediction)\n",
    "    key = cv2.waitKey(1) & 0xFF\n",
    "    \n",
    "    # If 's' is pressed, start prediction on the current frame\n",
    "    if key == ord('s'):\n",
    "        print(\"Starting prediction...\")\n",
    "        predicted_character = predict_class(frame)\n",
    "        print(f\"Predicted character: {predicted_character}\")\n",
    "        \n",
    "    # If 'q' is pressed, exit the loop\n",
    "    elif key == ord('q'):\n",
    "        print(\"Exiting...\")\n",
    "        break\n",
    "\n",
    "# Release the webcam and close windows\n",
    "cap.release()\n",
    "cv2.destroyAllWindows()\n"
   ]
  },
  {
   "cell_type": "code",
   "execution_count": null,
   "id": "9ac088ca-6939-4b20-b356-45ea79ff5654",
   "metadata": {},
   "outputs": [],
   "source": []
  }
 ],
 "metadata": {
  "kernelspec": {
   "display_name": "Python 3 (ipykernel)",
   "language": "python",
   "name": "python3"
  },
  "language_info": {
   "codemirror_mode": {
    "name": "ipython",
    "version": 3
   },
   "file_extension": ".py",
   "mimetype": "text/x-python",
   "name": "python",
   "nbconvert_exporter": "python",
   "pygments_lexer": "ipython3",
   "version": "3.11.7"
  }
 },
 "nbformat": 4,
 "nbformat_minor": 5
}
