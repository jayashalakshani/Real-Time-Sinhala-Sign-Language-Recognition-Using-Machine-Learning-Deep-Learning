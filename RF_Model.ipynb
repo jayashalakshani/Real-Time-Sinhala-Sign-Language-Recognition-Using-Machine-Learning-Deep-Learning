{
 "cells": [
  {
   "cell_type": "code",
   "execution_count": 1,
   "id": "d3fdd517-de81-4f48-b17d-09d828caafdb",
   "metadata": {},
   "outputs": [],
   "source": [
    "# import pickle\n",
    "\n",
    "# from sklearn.ensemble import RandomForestClassifier\n",
    "# from sklearn.model_selection import train_test_split\n",
    "# from sklearn.metrics import accuracy_score\n",
    "# import numpy as np"
   ]
  },
  {
   "cell_type": "code",
   "execution_count": 2,
   "id": "5f6abebb-7452-4150-a444-f7d9452dd2a1",
   "metadata": {},
   "outputs": [],
   "source": [
    "# # Load preprocessed dataset containing feature data and labels\n",
    "# # This dataset might represent gesture features for classification or other patterns.\n",
    "# data_dict = pickle.load(open('./data.pickle', 'rb'))"
   ]
  },
  {
   "cell_type": "code",
   "execution_count": 4,
   "id": "445d1071-1028-4ced-9ab8-71001361e89b",
   "metadata": {
    "scrolled": true
   },
   "outputs": [
    {
     "name": "stdout",
     "output_type": "stream",
     "text": [
      "<class 'list'>\n",
      "299\n",
      "[0.7428155276858585, 1.0, 0.3470111794019179, 0.9259914958145956, 0.12283796825695734, 0.7417926426850711, 0.06417284773490227, 0.5701276794944259, 0.0, 0.424245963141499, 0.29262686418003336, 0.50334021684358, 0.237674307776108, 0.2908622790083499, 0.2243714348131143, 0.16647452319604208, 0.23034540061209816, 0.061139028181284534, 0.532862386935078, 0.4843211420135122, 0.4641279170367874, 0.2594184342002769, 0.4342960809115976, 0.1160212359255816, 0.410372961961291, 0.0, 0.7635332047357286, 0.5074935250451051, 0.7091881212814996, 0.29343109788109706, 0.6690346135691534, 0.16249122276861105, 0.6305061269696929, 0.05212228832151353, 1.0, 0.5625197964490875, 0.9581760449174832, 0.3976545817481819, 0.916098941692095, 0.29024693242486277, 0.8754201412591415, 0.1930822163360878]\n"
     ]
    }
   ],
   "source": [
    "# print(type(data_dict['data']))\n",
    "# print(len(data_dict['data']))  # Number of samples\n",
    "# print(data_dict['data'][0])    # Inspect the first sample"
   ]
  },
  {
   "cell_type": "code",
   "execution_count": 5,
   "id": "3e59d03f-e379-4489-8625-d3daa4b04ae4",
   "metadata": {},
   "outputs": [],
   "source": [
    "# # Resolve inconsistent feature vector lengths\n",
    "# max_length = max(len(features) for features in data_dict['data'])\n",
    "# padded_data = [features + [0] * (max_length - len(features)) for features in data_dict['data']]"
   ]
  },
  {
   "cell_type": "code",
   "execution_count": 6,
   "id": "857d297d-1d7d-4186-86a8-2f10e9e63968",
   "metadata": {},
   "outputs": [],
   "source": [
    "# # Convert to NumPy arrays\n",
    "# data = np.asarray(padded_data)\n",
    "# labels = np.asarray(data_dict['labels'])"
   ]
  },
  {
   "cell_type": "code",
   "execution_count": 7,
   "id": "e53d5bc3-0089-44b2-9369-33709e381edf",
   "metadata": {},
   "outputs": [],
   "source": [
    "# # Split the dataset into training and testing sets\n",
    "# # 80% for training, 20% for testing, ensuring stratified split to maintain class distribution\n",
    "# x_train, x_test, y_train, y_test = train_test_split(\n",
    "#     data, labels, test_size=0.2, shuffle=True, stratify=labels\n",
    "# )"
   ]
  },
  {
   "cell_type": "code",
   "execution_count": 8,
   "id": "13eb1c85-f9bd-4e1d-be07-5dd4f43671d2",
   "metadata": {},
   "outputs": [],
   "source": [
    "# # Initialize the Random Forest Classifier\n",
    "# # RandomForest is chosen for its efficiency and ability to handle diverse datasets\n",
    "# model = RandomForestClassifier()"
   ]
  },
  {
   "cell_type": "code",
   "execution_count": 9,
   "id": "7836bc5b-b046-44a1-a3be-7c090704af6e",
   "metadata": {},
   "outputs": [
    {
     "data": {
      "text/html": [
       "<style>#sk-container-id-1 {color: black;background-color: white;}#sk-container-id-1 pre{padding: 0;}#sk-container-id-1 div.sk-toggleable {background-color: white;}#sk-container-id-1 label.sk-toggleable__label {cursor: pointer;display: block;width: 100%;margin-bottom: 0;padding: 0.3em;box-sizing: border-box;text-align: center;}#sk-container-id-1 label.sk-toggleable__label-arrow:before {content: \"▸\";float: left;margin-right: 0.25em;color: #696969;}#sk-container-id-1 label.sk-toggleable__label-arrow:hover:before {color: black;}#sk-container-id-1 div.sk-estimator:hover label.sk-toggleable__label-arrow:before {color: black;}#sk-container-id-1 div.sk-toggleable__content {max-height: 0;max-width: 0;overflow: hidden;text-align: left;background-color: #f0f8ff;}#sk-container-id-1 div.sk-toggleable__content pre {margin: 0.2em;color: black;border-radius: 0.25em;background-color: #f0f8ff;}#sk-container-id-1 input.sk-toggleable__control:checked~div.sk-toggleable__content {max-height: 200px;max-width: 100%;overflow: auto;}#sk-container-id-1 input.sk-toggleable__control:checked~label.sk-toggleable__label-arrow:before {content: \"▾\";}#sk-container-id-1 div.sk-estimator input.sk-toggleable__control:checked~label.sk-toggleable__label {background-color: #d4ebff;}#sk-container-id-1 div.sk-label input.sk-toggleable__control:checked~label.sk-toggleable__label {background-color: #d4ebff;}#sk-container-id-1 input.sk-hidden--visually {border: 0;clip: rect(1px 1px 1px 1px);clip: rect(1px, 1px, 1px, 1px);height: 1px;margin: -1px;overflow: hidden;padding: 0;position: absolute;width: 1px;}#sk-container-id-1 div.sk-estimator {font-family: monospace;background-color: #f0f8ff;border: 1px dotted black;border-radius: 0.25em;box-sizing: border-box;margin-bottom: 0.5em;}#sk-container-id-1 div.sk-estimator:hover {background-color: #d4ebff;}#sk-container-id-1 div.sk-parallel-item::after {content: \"\";width: 100%;border-bottom: 1px solid gray;flex-grow: 1;}#sk-container-id-1 div.sk-label:hover label.sk-toggleable__label {background-color: #d4ebff;}#sk-container-id-1 div.sk-serial::before {content: \"\";position: absolute;border-left: 1px solid gray;box-sizing: border-box;top: 0;bottom: 0;left: 50%;z-index: 0;}#sk-container-id-1 div.sk-serial {display: flex;flex-direction: column;align-items: center;background-color: white;padding-right: 0.2em;padding-left: 0.2em;position: relative;}#sk-container-id-1 div.sk-item {position: relative;z-index: 1;}#sk-container-id-1 div.sk-parallel {display: flex;align-items: stretch;justify-content: center;background-color: white;position: relative;}#sk-container-id-1 div.sk-item::before, #sk-container-id-1 div.sk-parallel-item::before {content: \"\";position: absolute;border-left: 1px solid gray;box-sizing: border-box;top: 0;bottom: 0;left: 50%;z-index: -1;}#sk-container-id-1 div.sk-parallel-item {display: flex;flex-direction: column;z-index: 1;position: relative;background-color: white;}#sk-container-id-1 div.sk-parallel-item:first-child::after {align-self: flex-end;width: 50%;}#sk-container-id-1 div.sk-parallel-item:last-child::after {align-self: flex-start;width: 50%;}#sk-container-id-1 div.sk-parallel-item:only-child::after {width: 0;}#sk-container-id-1 div.sk-dashed-wrapped {border: 1px dashed gray;margin: 0 0.4em 0.5em 0.4em;box-sizing: border-box;padding-bottom: 0.4em;background-color: white;}#sk-container-id-1 div.sk-label label {font-family: monospace;font-weight: bold;display: inline-block;line-height: 1.2em;}#sk-container-id-1 div.sk-label-container {text-align: center;}#sk-container-id-1 div.sk-container {/* jupyter's `normalize.less` sets `[hidden] { display: none; }` but bootstrap.min.css set `[hidden] { display: none !important; }` so we also need the `!important` here to be able to override the default hidden behavior on the sphinx rendered scikit-learn.org. See: https://github.com/scikit-learn/scikit-learn/issues/21755 */display: inline-block !important;position: relative;}#sk-container-id-1 div.sk-text-repr-fallback {display: none;}</style><div id=\"sk-container-id-1\" class=\"sk-top-container\"><div class=\"sk-text-repr-fallback\"><pre>RandomForestClassifier()</pre><b>In a Jupyter environment, please rerun this cell to show the HTML representation or trust the notebook. <br />On GitHub, the HTML representation is unable to render, please try loading this page with nbviewer.org.</b></div><div class=\"sk-container\" hidden><div class=\"sk-item\"><div class=\"sk-estimator sk-toggleable\"><input class=\"sk-toggleable__control sk-hidden--visually\" id=\"sk-estimator-id-1\" type=\"checkbox\" checked><label for=\"sk-estimator-id-1\" class=\"sk-toggleable__label sk-toggleable__label-arrow\">RandomForestClassifier</label><div class=\"sk-toggleable__content\"><pre>RandomForestClassifier()</pre></div></div></div></div></div>"
      ],
      "text/plain": [
       "RandomForestClassifier()"
      ]
     },
     "execution_count": 9,
     "metadata": {},
     "output_type": "execute_result"
    }
   ],
   "source": [
    "# # Train the model on the training data\n",
    "# model.fit(x_train, y_train)"
   ]
  },
  {
   "cell_type": "code",
   "execution_count": 10,
   "id": "c901f88c-1fa9-47c2-b3e5-6ca0a67feaf9",
   "metadata": {},
   "outputs": [],
   "source": [
    "# # Predict class labels for the test set\n",
    "# y_predict = model.predict(x_test)"
   ]
  },
  {
   "cell_type": "code",
   "execution_count": 11,
   "id": "b0f02f9a-24db-40fa-90cc-74f3fc482aa4",
   "metadata": {},
   "outputs": [],
   "source": [
    "# # Evaluate the accuracy of the model\n",
    "# score = accuracy_score(y_predict, y_test)"
   ]
  },
  {
   "cell_type": "code",
   "execution_count": 12,
   "id": "0da70201-d5ee-4eb7-bea0-ca0c3aa4925a",
   "metadata": {},
   "outputs": [
    {
     "name": "stdout",
     "output_type": "stream",
     "text": [
      "100.0% of samples were classified correctly !\n"
     ]
    }
   ],
   "source": [
    "# # Print the accuracy score\n",
    "# print('{}% of samples were classified correctly !'.format(score * 100))"
   ]
  },
  {
   "cell_type": "code",
   "execution_count": 13,
   "id": "b02918d0-3015-46d8-8683-4407610fecfc",
   "metadata": {},
   "outputs": [],
   "source": [
    "# # Save the trained model using pickle for future use\n",
    "# # This can be used in a production system for real-time gesture recognition\n",
    "# f = open('model.p', 'wb')\n",
    "# pickle.dump({'model': model}, f)\n",
    "# f.close()"
   ]
  },
  {
   "cell_type": "code",
   "execution_count": 1,
   "id": "adca3a94-5ad7-4677-8699-f1c63ac22653",
   "metadata": {},
   "outputs": [
    {
     "name": "stdout",
     "output_type": "stream",
     "text": [
      "<class 'list'>\n",
      "960\n",
      "[0.3537756765930895, 1.0, 0.7227924074579333, 0.8875175446134456, 0.9252179359171128, 0.7023958667830529, 0.9727052097215105, 0.5329665359583543, 1.0, 0.39706305809208076, 0.6880827423264532, 0.4882206106053137, 0.7261915125199591, 0.28815793242666693, 0.7278568870437309, 0.1718507136191428, 0.7120400648038386, 0.07017430790174715, 0.46772982665031576, 0.4711318555906825, 0.5065093037209626, 0.2510784943367269, 0.513367690507336, 0.11227629204488405, 0.5079853846661685, 0.0, 0.2553716434713872, 0.4913190911023369, 0.25325435974076127, 0.28283104103818885, 0.279401995878775, 0.15733805812977059, 0.30407647226878287, 0.05417629641690373, 0.026825061768714797, 0.5456408702429788, 0.00634513243831746, 0.3872437280362546, 0.0007755778566241359, 0.28191272845687304, 0.0, 0.1881681463691884]\n",
      "Data shape: (960, 42)\n",
      "100.0% of samples were classified correctly!\n"
     ]
    }
   ],
   "source": [
    "import pickle\n",
    "from sklearn.ensemble import RandomForestClassifier\n",
    "from sklearn.model_selection import train_test_split\n",
    "from sklearn.metrics import accuracy_score\n",
    "import numpy as np\n",
    "\n",
    "# Load preprocessed dataset containing feature data and labels\n",
    "data_dict = pickle.load(open('./data.pickle', 'rb'))\n",
    "\n",
    "# Check the type and size of the data\n",
    "print(type(data_dict['data']))\n",
    "print(len(data_dict['data']))  # Number of samples\n",
    "print(data_dict['data'][0])    # Inspect the first sample\n",
    "\n",
    "# Ensure that each sample has 42 features\n",
    "# If the feature length is not 42, pad or truncate accordingly\n",
    "required_feature_length = 42\n",
    "padded_data = []\n",
    "\n",
    "# Iterate through each sample and adjust the length to 42\n",
    "for features in data_dict['data']:\n",
    "    if len(features) > required_feature_length:\n",
    "        features = features[:required_feature_length]  # Truncate if longer than 42\n",
    "    elif len(features) < required_feature_length:\n",
    "        features = features + [0] * (required_feature_length - len(features))  # Pad with zeros if shorter than 42\n",
    "    padded_data.append(features)\n",
    "\n",
    "# Convert to NumPy arrays for model training\n",
    "data = np.asarray(padded_data)\n",
    "labels = np.asarray(data_dict['labels'])\n",
    "\n",
    "# Check the shape of the data to ensure it's correct\n",
    "print(f\"Data shape: {data.shape}\")\n",
    "\n",
    "# Split the dataset into training and testing sets\n",
    "x_train, x_test, y_train, y_test = train_test_split(\n",
    "    data, labels, test_size=0.2, shuffle=True, stratify=labels\n",
    ")\n",
    "\n",
    "# Initialize the Random Forest Classifier\n",
    "model = RandomForestClassifier()\n",
    "\n",
    "# Train the model on the training data\n",
    "model.fit(x_train, y_train)\n",
    "\n",
    "# Predict class labels for the test set\n",
    "y_predict = model.predict(x_test)\n",
    "\n",
    "# Evaluate the accuracy of the model\n",
    "score = accuracy_score(y_predict, y_test)\n",
    "\n",
    "# Print the accuracy score\n",
    "print(f'{score * 100}% of samples were classified correctly!')\n",
    "\n",
    "# Save the trained model using pickle for future use\n",
    "with open('model_rf.p', 'wb') as f:\n",
    "    pickle.dump({'model': model}, f)\n"
   ]
  },
  {
   "cell_type": "code",
   "execution_count": 3,
   "id": "607e70fa-05b5-48e5-b676-3efba7a2c99b",
   "metadata": {},
   "outputs": [],
   "source": [
    "# with open('model_rf.h5', 'wb') as f:\n",
    "#     pickle.dump({'model': model}, f)"
   ]
  },
  {
   "cell_type": "code",
   "execution_count": 4,
   "id": "7e2654dc-f09d-4e72-9a08-2ae0a5f8dfad",
   "metadata": {},
   "outputs": [
    {
     "ename": "AttributeError",
     "evalue": "'RandomForestClassifier' object has no attribute 'save'",
     "output_type": "error",
     "traceback": [
      "\u001b[1;31m---------------------------------------------------------------------------\u001b[0m",
      "\u001b[1;31mAttributeError\u001b[0m                            Traceback (most recent call last)",
      "Cell \u001b[1;32mIn[4], line 1\u001b[0m\n\u001b[1;32m----> 1\u001b[0m model\u001b[38;5;241m.\u001b[39msave(\u001b[38;5;124m'\u001b[39m\u001b[38;5;124mmodel_rf.h5\u001b[39m\u001b[38;5;124m'\u001b[39m)\n",
      "\u001b[1;31mAttributeError\u001b[0m: 'RandomForestClassifier' object has no attribute 'save'"
     ]
    }
   ],
   "source": [
    "# model.save('model_rf.h5')"
   ]
  },
  {
   "cell_type": "code",
   "execution_count": 8,
   "id": "658ea8bb-8629-4957-b91b-513858239195",
   "metadata": {},
   "outputs": [],
   "source": [
    "# import pickle\n",
    "\n",
    "# # Save the model\n",
    "# with open('model_rf.pkl', 'wb') as file:\n",
    "#     pickle.dump(model, file)\n",
    "\n",
    "# # Load the saved model\n",
    "# with open('model_rf.pkl', 'rb') as file:\n",
    "#     loaded_model = pickle.load(file)"
   ]
  },
  {
   "cell_type": "code",
   "execution_count": 9,
   "id": "c9ac6435-73f9-4d60-8af7-75ab47a5614e",
   "metadata": {},
   "outputs": [
    {
     "data": {
      "text/plain": [
       "['model_rf.joblib']"
      ]
     },
     "execution_count": 9,
     "metadata": {},
     "output_type": "execute_result"
    }
   ],
   "source": [
    "# from joblib import dump, load\n",
    "\n",
    "# # Save the model\n",
    "# dump(model, 'model_rf.joblib')"
   ]
  },
  {
   "cell_type": "markdown",
   "id": "9fd90c65-f982-4962-908a-7d06b53f4e18",
   "metadata": {},
   "source": [
    "# Hyperparameter Tuning"
   ]
  },
  {
   "cell_type": "code",
   "execution_count": 10,
   "id": "c9441561-8643-4102-93f7-886370bb0af4",
   "metadata": {},
   "outputs": [
    {
     "name": "stdout",
     "output_type": "stream",
     "text": [
      "<class 'list'>\n",
      "960\n",
      "[0.3537756765930895, 1.0, 0.7227924074579333, 0.8875175446134456, 0.9252179359171128, 0.7023958667830529, 0.9727052097215105, 0.5329665359583543, 1.0, 0.39706305809208076, 0.6880827423264532, 0.4882206106053137, 0.7261915125199591, 0.28815793242666693, 0.7278568870437309, 0.1718507136191428, 0.7120400648038386, 0.07017430790174715, 0.46772982665031576, 0.4711318555906825, 0.5065093037209626, 0.2510784943367269, 0.513367690507336, 0.11227629204488405, 0.5079853846661685, 0.0, 0.2553716434713872, 0.4913190911023369, 0.25325435974076127, 0.28283104103818885, 0.279401995878775, 0.15733805812977059, 0.30407647226878287, 0.05417629641690373, 0.026825061768714797, 0.5456408702429788, 0.00634513243831746, 0.3872437280362546, 0.0007755778566241359, 0.28191272845687304, 0.0, 0.1881681463691884]\n",
      "Data shape: (960, 42)\n",
      "Fitting 3 folds for each of 216 candidates, totalling 648 fits\n",
      "Best Parameters: {'bootstrap': True, 'max_depth': None, 'min_samples_leaf': 1, 'min_samples_split': 2, 'n_estimators': 100}\n",
      "Best Cross-Validation Accuracy: 0.99609375\n",
      "Final Test Accuracy: 99.48%\n"
     ]
    }
   ],
   "source": [
    "import pickle\n",
    "from sklearn.ensemble import RandomForestClassifier\n",
    "from sklearn.model_selection import train_test_split, GridSearchCV\n",
    "from sklearn.metrics import accuracy_score\n",
    "import numpy as np\n",
    "\n",
    "# Load preprocessed dataset containing feature data and labels\n",
    "data_dict = pickle.load(open('./data.pickle', 'rb'))\n",
    "\n",
    "# Check the type and size of the data\n",
    "print(type(data_dict['data']))\n",
    "print(len(data_dict['data']))  # Number of samples\n",
    "print(data_dict['data'][0])    # Inspect the first sample\n",
    "\n",
    "# Ensure that each sample has 42 features\n",
    "required_feature_length = 42\n",
    "padded_data = []\n",
    "\n",
    "# Adjust each sample to have a length of 42 features\n",
    "for features in data_dict['data']:\n",
    "    if len(features) > required_feature_length:\n",
    "        features = features[:required_feature_length]  # Truncate if longer than 42\n",
    "    elif len(features) < required_feature_length:\n",
    "        features = features + [0] * (required_feature_length - len(features))  # Pad with zeros if shorter than 42\n",
    "    padded_data.append(features)\n",
    "\n",
    "# Convert to NumPy arrays for model training\n",
    "data = np.asarray(padded_data)\n",
    "labels = np.asarray(data_dict['labels'])\n",
    "\n",
    "# Check the shape of the data to ensure it's correct\n",
    "print(f\"Data shape: {data.shape}\")\n",
    "\n",
    "# Split the dataset into training and testing sets\n",
    "x_train, x_test, y_train, y_test = train_test_split(\n",
    "    data, labels, test_size=0.2, shuffle=True, stratify=labels\n",
    ")\n",
    "\n",
    "# Hyperparameter tuning using GridSearchCV\n",
    "param_grid = {\n",
    "    'n_estimators': [100, 200, 300],             # Number of trees\n",
    "    'max_depth': [None, 10, 20, 30],             # Maximum depth of each tree\n",
    "    'min_samples_split': [2, 5, 10],             # Minimum samples required to split a node\n",
    "    'min_samples_leaf': [1, 2, 4],               # Minimum samples required at each leaf node\n",
    "    'bootstrap': [True, False]                   # Whether to bootstrap samples\n",
    "}\n",
    "\n",
    "# Initialize the Random Forest Classifier\n",
    "rf = RandomForestClassifier(random_state=42)\n",
    "\n",
    "# Perform Grid Search\n",
    "grid_search = GridSearchCV(\n",
    "    estimator=rf,\n",
    "    param_grid=param_grid,\n",
    "    scoring='accuracy',\n",
    "    cv=3,  # 3-fold cross-validation\n",
    "    verbose=2,\n",
    "    n_jobs=-1  # Use all available cores\n",
    ")\n",
    "\n",
    "# Fit the GridSearchCV to the training data\n",
    "grid_search.fit(x_train, y_train)\n",
    "\n",
    "# Print the best parameters and best score\n",
    "print(f\"Best Parameters: {grid_search.best_params_}\")\n",
    "print(f\"Best Cross-Validation Accuracy: {grid_search.best_score_}\")\n",
    "\n",
    "# Train the final model using the best parameters\n",
    "best_model = grid_search.best_estimator_\n",
    "\n",
    "# Predict class labels for the test set\n",
    "y_predict = best_model.predict(x_test)\n",
    "\n",
    "# Evaluate the accuracy of the final model\n",
    "final_score = accuracy_score(y_test, y_predict)\n",
    "print(f'Final Test Accuracy: {final_score * 100:.2f}%')\n",
    "\n",
    "# Save the best model using pickle\n",
    "with open('best_model_rf.p', 'wb') as f:\n",
    "    pickle.dump({'model': best_model}, f)\n"
   ]
  },
  {
   "cell_type": "code",
   "execution_count": 11,
   "id": "088fc6ca-f4fc-4922-a874-47a1726a1044",
   "metadata": {},
   "outputs": [],
   "source": [
    "import pickle\n",
    "\n",
    "# Save the model\n",
    "with open('best_model_rf.pkl', 'wb') as file:\n",
    "    pickle.dump(best_model, file)\n",
    "\n",
    "# # Load the saved model\n",
    "# with open('best_model_rf.pkl', 'rb') as file:\n",
    "#     loaded_model = pickle.load(file)"
   ]
  },
  {
   "cell_type": "code",
   "execution_count": null,
   "id": "4f000727-b0a6-4d66-8a10-c8783eb34b7a",
   "metadata": {},
   "outputs": [],
   "source": []
  }
 ],
 "metadata": {
  "kernelspec": {
   "display_name": "Python 3 (ipykernel)",
   "language": "python",
   "name": "python3"
  },
  "language_info": {
   "codemirror_mode": {
    "name": "ipython",
    "version": 3
   },
   "file_extension": ".py",
   "mimetype": "text/x-python",
   "name": "python",
   "nbconvert_exporter": "python",
   "pygments_lexer": "ipython3",
   "version": "3.11.7"
  }
 },
 "nbformat": 4,
 "nbformat_minor": 5
}
