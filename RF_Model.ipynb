{
 "cells": [
  {
   "cell_type": "code",
   "execution_count": 1,
   "id": "adca3a94-5ad7-4677-8699-f1c63ac22653",
   "metadata": {},
   "outputs": [
    {
     "name": "stdout",
     "output_type": "stream",
     "text": [
      "<class 'list'>\n",
      "960\n",
      "[0.3537756765930895, 1.0, 0.7227924074579333, 0.8875175446134456, 0.9252179359171128, 0.7023958667830529, 0.9727052097215105, 0.5329665359583543, 1.0, 0.39706305809208076, 0.6880827423264532, 0.4882206106053137, 0.7261915125199591, 0.28815793242666693, 0.7278568870437309, 0.1718507136191428, 0.7120400648038386, 0.07017430790174715, 0.46772982665031576, 0.4711318555906825, 0.5065093037209626, 0.2510784943367269, 0.513367690507336, 0.11227629204488405, 0.5079853846661685, 0.0, 0.2553716434713872, 0.4913190911023369, 0.25325435974076127, 0.28283104103818885, 0.279401995878775, 0.15733805812977059, 0.30407647226878287, 0.05417629641690373, 0.026825061768714797, 0.5456408702429788, 0.00634513243831746, 0.3872437280362546, 0.0007755778566241359, 0.28191272845687304, 0.0, 0.1881681463691884]\n",
      "Data shape: (960, 42)\n",
      "100.0% of samples were classified correctly!\n"
     ]
    }
   ],
   "source": [
    "import pickle\n",
    "from sklearn.ensemble import RandomForestClassifier\n",
    "from sklearn.model_selection import train_test_split\n",
    "from sklearn.metrics import accuracy_score\n",
    "import numpy as np\n",
    "\n",
    "# Load preprocessed dataset containing feature data and labels\n",
    "data_dict = pickle.load(open('./data.pickle', 'rb'))\n",
    "\n",
    "# Check the type and size of the data\n",
    "print(type(data_dict['data']))\n",
    "print(len(data_dict['data']))  # Number of samples\n",
    "print(data_dict['data'][0])    # Inspect the first sample\n",
    "\n",
    "# Ensure that each sample has 42 features\n",
    "# If the feature length is not 42, pad or truncate accordingly\n",
    "required_feature_length = 42\n",
    "padded_data = []\n",
    "\n",
    "# Iterate through each sample and adjust the length to 42\n",
    "for features in data_dict['data']:\n",
    "    if len(features) > required_feature_length:\n",
    "        features = features[:required_feature_length]  # Truncate if longer than 42\n",
    "    elif len(features) < required_feature_length:\n",
    "        features = features + [0] * (required_feature_length - len(features))  # Pad with zeros if shorter than 42\n",
    "    padded_data.append(features)\n",
    "\n",
    "# Convert to NumPy arrays for model training\n",
    "data = np.asarray(padded_data)\n",
    "labels = np.asarray(data_dict['labels'])\n",
    "\n",
    "# Check the shape of the data to ensure it's correct\n",
    "print(f\"Data shape: {data.shape}\")\n",
    "\n",
    "# Split the dataset into training and testing sets\n",
    "x_train, x_test, y_train, y_test = train_test_split(\n",
    "    data, labels, test_size=0.2, shuffle=True, stratify=labels\n",
    ")\n",
    "\n",
    "# Initialize the Random Forest Classifier\n",
    "model = RandomForestClassifier()\n",
    "\n",
    "# Train the model on the training data\n",
    "model.fit(x_train, y_train)\n",
    "\n",
    "# Predict class labels for the test set\n",
    "y_predict = model.predict(x_test)\n",
    "\n",
    "# Evaluate the accuracy of the model\n",
    "score = accuracy_score(y_predict, y_test)\n",
    "\n",
    "# Print the accuracy score\n",
    "print(f'{score * 100}% of samples were classified correctly!')\n",
    "\n",
    "# Save the trained model using pickle for future use\n",
    "with open('model_rf.p', 'wb') as f:\n",
    "    pickle.dump({'model': model}, f)\n"
   ]
  },
  {
   "cell_type": "code",
   "execution_count": 3,
   "id": "607e70fa-05b5-48e5-b676-3efba7a2c99b",
   "metadata": {},
   "outputs": [],
   "source": [
    "# with open('model_rf.h5', 'wb') as f:\n",
    "#     pickle.dump({'model': model}, f)"
   ]
  },
  {
   "cell_type": "code",
   "execution_count": 1,
   "id": "7e2654dc-f09d-4e72-9a08-2ae0a5f8dfad",
   "metadata": {},
   "outputs": [],
   "source": [
    "# model.save('model_rf.h5')"
   ]
  },
  {
   "cell_type": "markdown",
   "id": "9fd90c65-f982-4962-908a-7d06b53f4e18",
   "metadata": {},
   "source": [
    "# Hyperparameter Tuning"
   ]
  },
  {
   "cell_type": "code",
   "execution_count": 10,
   "id": "c9441561-8643-4102-93f7-886370bb0af4",
   "metadata": {},
   "outputs": [
    {
     "name": "stdout",
     "output_type": "stream",
     "text": [
      "<class 'list'>\n",
      "960\n",
      "[0.3537756765930895, 1.0, 0.7227924074579333, 0.8875175446134456, 0.9252179359171128, 0.7023958667830529, 0.9727052097215105, 0.5329665359583543, 1.0, 0.39706305809208076, 0.6880827423264532, 0.4882206106053137, 0.7261915125199591, 0.28815793242666693, 0.7278568870437309, 0.1718507136191428, 0.7120400648038386, 0.07017430790174715, 0.46772982665031576, 0.4711318555906825, 0.5065093037209626, 0.2510784943367269, 0.513367690507336, 0.11227629204488405, 0.5079853846661685, 0.0, 0.2553716434713872, 0.4913190911023369, 0.25325435974076127, 0.28283104103818885, 0.279401995878775, 0.15733805812977059, 0.30407647226878287, 0.05417629641690373, 0.026825061768714797, 0.5456408702429788, 0.00634513243831746, 0.3872437280362546, 0.0007755778566241359, 0.28191272845687304, 0.0, 0.1881681463691884]\n",
      "Data shape: (960, 42)\n",
      "Fitting 3 folds for each of 216 candidates, totalling 648 fits\n",
      "Best Parameters: {'bootstrap': True, 'max_depth': None, 'min_samples_leaf': 1, 'min_samples_split': 2, 'n_estimators': 100}\n",
      "Best Cross-Validation Accuracy: 0.99609375\n",
      "Final Test Accuracy: 99.48%\n"
     ]
    }
   ],
   "source": [
    "import pickle\n",
    "from sklearn.ensemble import RandomForestClassifier\n",
    "from sklearn.model_selection import train_test_split, GridSearchCV\n",
    "from sklearn.metrics import accuracy_score\n",
    "import numpy as np\n",
    "\n",
    "# Load preprocessed dataset containing feature data and labels\n",
    "data_dict = pickle.load(open('./data.pickle', 'rb'))\n",
    "\n",
    "# Check the type and size of the data\n",
    "print(type(data_dict['data']))\n",
    "print(len(data_dict['data']))  # Number of samples\n",
    "print(data_dict['data'][0])    # Inspect the first sample\n",
    "\n",
    "# Ensure that each sample has 42 features\n",
    "required_feature_length = 42\n",
    "padded_data = []\n",
    "\n",
    "# Adjust each sample to have a length of 42 features\n",
    "for features in data_dict['data']:\n",
    "    if len(features) > required_feature_length:\n",
    "        features = features[:required_feature_length]  # Truncate if longer than 42\n",
    "    elif len(features) < required_feature_length:\n",
    "        features = features + [0] * (required_feature_length - len(features))  # Pad with zeros if shorter than 42\n",
    "    padded_data.append(features)\n",
    "\n",
    "# Convert to NumPy arrays for model training\n",
    "data = np.asarray(padded_data)\n",
    "labels = np.asarray(data_dict['labels'])\n",
    "\n",
    "# Check the shape of the data to ensure it's correct\n",
    "print(f\"Data shape: {data.shape}\")\n",
    "\n",
    "# Split the dataset into training and testing sets\n",
    "x_train, x_test, y_train, y_test = train_test_split(\n",
    "    data, labels, test_size=0.2, shuffle=True, stratify=labels\n",
    ")\n",
    "\n",
    "# Hyperparameter tuning using GridSearchCV\n",
    "param_grid = {\n",
    "    'n_estimators': [100, 200, 300],             # Number of trees\n",
    "    'max_depth': [None, 10, 20, 30],             # Maximum depth of each tree\n",
    "    'min_samples_split': [2, 5, 10],             # Minimum samples required to split a node\n",
    "    'min_samples_leaf': [1, 2, 4],               # Minimum samples required at each leaf node\n",
    "    'bootstrap': [True, False]                   # Whether to bootstrap samples\n",
    "}\n",
    "\n",
    "# Initialize the Random Forest Classifier\n",
    "rf = RandomForestClassifier(random_state=42)\n",
    "\n",
    "# Perform Grid Search\n",
    "grid_search = GridSearchCV(\n",
    "    estimator=rf,\n",
    "    param_grid=param_grid,\n",
    "    scoring='accuracy',\n",
    "    cv=3,  # 3-fold cross-validation\n",
    "    verbose=2,\n",
    "    n_jobs=-1  # Use all available cores\n",
    ")\n",
    "\n",
    "# Fit the GridSearchCV to the training data\n",
    "grid_search.fit(x_train, y_train)\n",
    "\n",
    "# Print the best parameters and best score\n",
    "print(f\"Best Parameters: {grid_search.best_params_}\")\n",
    "print(f\"Best Cross-Validation Accuracy: {grid_search.best_score_}\")\n",
    "\n",
    "# Train the final model using the best parameters\n",
    "best_model = grid_search.best_estimator_\n",
    "\n",
    "# Predict class labels for the test set\n",
    "y_predict = best_model.predict(x_test)\n",
    "\n",
    "# Evaluate the accuracy of the final model\n",
    "final_score = accuracy_score(y_test, y_predict)\n",
    "print(f'Final Test Accuracy: {final_score * 100:.2f}%')\n",
    "\n",
    "# Save the best model using pickle\n",
    "with open('best_model_rf.p', 'wb') as f:\n",
    "    pickle.dump({'model': best_model}, f)\n"
   ]
  },
  {
   "cell_type": "code",
   "execution_count": 11,
   "id": "088fc6ca-f4fc-4922-a874-47a1726a1044",
   "metadata": {},
   "outputs": [],
   "source": [
    "import pickle\n",
    "\n",
    "# Save the model\n",
    "with open('best_model_rf.pkl', 'wb') as file:"
   ]
  },
  {
   "cell_type": "code",
   "execution_count": null,
   "id": "4f000727-b0a6-4d66-8a10-c8783eb34b7a",
   "metadata": {},
   "outputs": [],
   "source": []
  }
 ],
 "metadata": {
  "kernelspec": {
   "display_name": "Python 3 (ipykernel)",
   "language": "python",
   "name": "python3"
  },
  "language_info": {
   "codemirror_mode": {
    "name": "ipython",
    "version": 3
   },
   "file_extension": ".py",
   "mimetype": "text/x-python",
   "name": "python",
   "nbconvert_exporter": "python",
   "pygments_lexer": "ipython3",
   "version": "3.11.7"
  }
 },
 "nbformat": 4,
 "nbformat_minor": 5
}
